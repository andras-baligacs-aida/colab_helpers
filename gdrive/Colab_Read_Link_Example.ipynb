{
  "nbformat": 4,
  "nbformat_minor": 0,
  "metadata": {
    "colab": {
      "name": "Colab_Read_Link_Example.ipynb",
      "provenance": [],
      "collapsed_sections": []
    },
    "kernelspec": {
      "name": "python3",
      "display_name": "Python 3"
    }
  },
  "cells": [
    {
      "cell_type": "code",
      "metadata": {
        "id": "158x-JAe6Y69"
      },
      "source": [
        "try:\n",
        "  if cl_help:\n",
        "    pass\n",
        "except NameError:\n",
        "  !git clone https://github.com/andras-baligacs-aida/colab_helpers.git > /dev/null 2>&1\n",
        "  cl_help = True"
      ],
      "execution_count": 1,
      "outputs": []
    },
    {
      "cell_type": "code",
      "metadata": {
        "id": "uTr614I273Hr"
      },
      "source": [
        "from colab_helpers.gdrive.gdrive import google_link_share\n",
        "import pandas as pd"
      ],
      "execution_count": 2,
      "outputs": []
    },
    {
      "cell_type": "code",
      "metadata": {
        "id": "ZTZcfXs58JfF"
      },
      "source": [
        "link = 'https://drive.google.com/file/d/1VfVc50zIj4ccU3tom5YiIPIC4B3EE_Di/view?usp=sharing'\n",
        "\n",
        "df_gps = pd.read_csv(google_link_share(link))"
      ],
      "execution_count": 3,
      "outputs": []
    },
    {
      "cell_type": "code",
      "metadata": {
        "colab": {
          "base_uri": "https://localhost:8080/",
          "height": 197
        },
        "id": "2it-Xamy8YsU",
        "outputId": "04cc58c6-24d4-4b9a-9e22-210b2064fe06"
      },
      "source": [
        "df_gps.head()"
      ],
      "execution_count": 4,
      "outputs": [
        {
          "output_type": "execute_result",
          "data": {
            "text/html": [
              "<div>\n",
              "<style scoped>\n",
              "    .dataframe tbody tr th:only-of-type {\n",
              "        vertical-align: middle;\n",
              "    }\n",
              "\n",
              "    .dataframe tbody tr th {\n",
              "        vertical-align: top;\n",
              "    }\n",
              "\n",
              "    .dataframe thead th {\n",
              "        text-align: right;\n",
              "    }\n",
              "</style>\n",
              "<table border=\"1\" class=\"dataframe\">\n",
              "  <thead>\n",
              "    <tr style=\"text-align: right;\">\n",
              "      <th></th>\n",
              "      <th>latitude</th>\n",
              "      <th>longitude</th>\n",
              "      <th>client_id</th>\n",
              "    </tr>\n",
              "  </thead>\n",
              "  <tbody>\n",
              "    <tr>\n",
              "      <th>0</th>\n",
              "      <td>8.672606</td>\n",
              "      <td>49.849342</td>\n",
              "      <td>1</td>\n",
              "    </tr>\n",
              "    <tr>\n",
              "      <th>1</th>\n",
              "      <td>11.602641</td>\n",
              "      <td>48.116106</td>\n",
              "      <td>0</td>\n",
              "    </tr>\n",
              "    <tr>\n",
              "      <th>2</th>\n",
              "      <td>7.854290</td>\n",
              "      <td>48.003895</td>\n",
              "      <td>0</td>\n",
              "    </tr>\n",
              "    <tr>\n",
              "      <th>3</th>\n",
              "      <td>8.635582</td>\n",
              "      <td>49.867666</td>\n",
              "      <td>1</td>\n",
              "    </tr>\n",
              "    <tr>\n",
              "      <th>4</th>\n",
              "      <td>7.483858</td>\n",
              "      <td>51.529208</td>\n",
              "      <td>2</td>\n",
              "    </tr>\n",
              "  </tbody>\n",
              "</table>\n",
              "</div>"
            ],
            "text/plain": [
              "    latitude  longitude  client_id\n",
              "0   8.672606  49.849342          1\n",
              "1  11.602641  48.116106          0\n",
              "2   7.854290  48.003895          0\n",
              "3   8.635582  49.867666          1\n",
              "4   7.483858  51.529208          2"
            ]
          },
          "metadata": {
            "tags": []
          },
          "execution_count": 4
        }
      ]
    }
  ]
}